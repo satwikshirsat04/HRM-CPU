{
 "cells": [
  {
   "cell_type": "code",
   "execution_count": 1,
   "id": "403872ed",
   "metadata": {},
   "outputs": [
    {
     "name": "stdout",
     "output_type": "stream",
     "text": [
      "{np.uint8(0): np.int64(6920), np.uint8(1): np.int64(80), np.uint8(2): np.int64(9), np.uint8(3): np.int64(19), np.uint8(4): np.int64(24), np.uint8(5): np.int64(22), np.uint8(6): np.int64(20), np.uint8(7): np.int64(17), np.uint8(8): np.int64(19), np.uint8(9): np.int64(23), np.uint8(10): np.int64(24), np.uint8(11): np.int64(23)}\n"
     ]
    }
   ],
   "source": [
    "import numpy as np\n",
    "labels = np.load(\"data/arc-simple/train/all__labels.npy\").flatten()\n",
    "unique, counts = np.unique(labels, return_counts=True)\n",
    "print(dict(zip(unique, counts)))"
   ]
  },
  {
   "cell_type": "code",
   "execution_count": 2,
   "id": "ac79752d",
   "metadata": {},
   "outputs": [
    {
     "name": "stdout",
     "output_type": "stream",
     "text": [
      "{np.int16(-100): np.int64(6920), np.int16(1): np.int64(80), np.int16(2): np.int64(12), np.int16(3): np.int64(22), np.int16(4): np.int64(18), np.int16(5): np.int64(17), np.int16(6): np.int64(26), np.int16(7): np.int64(22), np.int16(8): np.int64(28), np.int16(9): np.int64(19), np.int16(10): np.int64(13), np.int16(11): np.int64(23)}\n"
     ]
    }
   ],
   "source": [
    "labels = np.load(\"data/arc-simple/train/all__labels.npy\").flatten()\n",
    "unique, counts = np.unique(labels, return_counts=True)\n",
    "print(dict(zip(unique, counts)))\n"
   ]
  },
  {
   "cell_type": "code",
   "execution_count": null,
   "id": "f47d67b4",
   "metadata": {},
   "outputs": [],
   "source": []
  }
 ],
 "metadata": {
  "kernelspec": {
   "display_name": "Python 3",
   "language": "python",
   "name": "python3"
  },
  "language_info": {
   "codemirror_mode": {
    "name": "ipython",
    "version": 3
   },
   "file_extension": ".py",
   "mimetype": "text/x-python",
   "name": "python",
   "nbconvert_exporter": "python",
   "pygments_lexer": "ipython3",
   "version": "3.12.1"
  }
 },
 "nbformat": 4,
 "nbformat_minor": 5
}
